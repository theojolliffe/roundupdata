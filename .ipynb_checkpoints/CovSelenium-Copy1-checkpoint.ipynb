{
 "cells": [
  {
   "cell_type": "code",
   "execution_count": 1,
   "id": "80ad8150-3b84-4b40-85cf-559f3c81fbb0",
   "metadata": {},
   "outputs": [],
   "source": [
    "import pandas as pd\n",
    "import selenium\n",
    "from selenium import webdriver\n",
    "from selenium.webdriver.common.action_chains import ActionChains\n",
    "import time\n",
    "from io import StringIO\n",
    "from pandas.api.types import is_numeric_dtype\n",
    "import requests as req\n",
    "from bs4 import BeautifulSoup\n",
    "import json\n",
    "import unidecode\n",
    "\n",
    "import sys\n",
    "import requests as rq\n",
    "from bs4 import BeautifulSoup as bs\n",
    "from time import sleep\n",
    "from time import time\n",
    "from random import randint\n",
    "from warnings import warn"
   ]
  },
  {
   "cell_type": "code",
   "execution_count": 354,
   "id": "43728c13-d9fc-43a4-badc-8ab027954e84",
   "metadata": {},
   "outputs": [],
   "source": [
    "op = webdriver.ChromeOptions()\n",
    "\n",
    "op.add_argument('--headless')\n",
    "\n",
    "driver = webdriver.Chrome('/Applications/chromedriver', options=op)\n",
    "driver2 = webdriver.Chrome('/Applications/chromedriver', options=op)"
   ]
  },
  {
   "cell_type": "code",
   "execution_count": 3,
   "id": "74bef78a-0c16-4bb2-8b81-9707c6252bf6",
   "metadata": {},
   "outputs": [],
   "source": [
    "# ONS LATEST INSIGHTS APRIL Wayback machine archive urls\n",
    "url = 'http://web.archive.org/cdx/search/cdx?url=https://www.ons.gov.uk/peoplepopulationandcommunity/healthandsocialcare/conditionsanddiseases/articles/coronaviruscovid19/latestinsights&collapse=digest&from=20210707&to=20220501&output=json'\n",
    "# url = 'http://web.archive.org/cdx/search/cdx?url=ons.gov.uk/peoplepopulationandcommunity/healthandsocialcare/conditionsanddiseases/articles/coronaviruscovid19roundup/2020-03-26&collapse=digest&from=20200101&to=20211231&output=json'\n",
    "\n",
    "urls = rq.get(url).text\n",
    "parse_url = json.loads(urls) #parses the JSON from urls.\n",
    "\n",
    "## Extracts timestamp and original columns from urls and compiles a url list.\n",
    "url_list = []\n",
    "for i in range(1,len(parse_url)):\n",
    "    orig_url = parse_url[i][2]\n",
    "    tstamp = parse_url[i][1]\n",
    "    waylink = tstamp+'/'+orig_url\n",
    "    url_list.append(waylink)\n",
    "## Compiles final url pattern.\n",
    "final_urls = []\n",
    "for url in url_list:\n",
    "    final_urls.append('https://web.archive.org/web/'+url)"
   ]
  },
  {
   "cell_type": "code",
   "execution_count": 269,
   "id": "aa82e740-2db8-4ba2-a7f0-3351b6209086",
   "metadata": {},
   "outputs": [
    {
     "data": {
      "text/html": [
       "<div>\n",
       "<style scoped>\n",
       "    .dataframe tbody tr th:only-of-type {\n",
       "        vertical-align: middle;\n",
       "    }\n",
       "\n",
       "    .dataframe tbody tr th {\n",
       "        vertical-align: top;\n",
       "    }\n",
       "\n",
       "    .dataframe thead th {\n",
       "        text-align: right;\n",
       "    }\n",
       "</style>\n",
       "<table border=\"1\" class=\"dataframe\">\n",
       "  <thead>\n",
       "    <tr style=\"text-align: right;\">\n",
       "      <th></th>\n",
       "      <th>page</th>\n",
       "      <th>section</th>\n",
       "      <th>roundup</th>\n",
       "      <th>bulletin_url</th>\n",
       "      <th>bulletin_mps</th>\n",
       "    </tr>\n",
       "  </thead>\n",
       "  <tbody>\n",
       "  </tbody>\n",
       "</table>\n",
       "</div>"
      ],
      "text/plain": [
       "Empty DataFrame\n",
       "Columns: [page, section, roundup, bulletin_url, bulletin_mps]\n",
       "Index: []"
      ]
     },
     "execution_count": 269,
     "metadata": {},
     "output_type": "execute_result"
    }
   ],
   "source": [
    "d = {'page': [], 'section': [], 'page': [], 'section': [], 'roundup': [], 'bulletin_url': [], 'bulletin_mps': []}\n",
    "df = pd.DataFrame(data=d)\n",
    "df"
   ]
  },
  {
   "cell_type": "code",
   "execution_count": 237,
   "id": "aca27b3c-3997-47ea-8de2-e260c1cde59b",
   "metadata": {},
   "outputs": [
    {
     "name": "stdout",
     "output_type": "stream",
     "text": [
      "Released: 26 January 2021\n",
      "https://www.ons.gov.uk/employmentandlabourmarket/peopleinwork/earningsandworkinghours/bulletins/earningsandemploymentfrompayasyouearnrealtimeinformationuk/latest\n"
     ]
    },
    {
     "data": {
      "text/plain": [
       "'https://www.ons.gov.uk/employmentandlabourmarket/peopleinwork/earningsandworkinghours/bulletins/earningsandemploymentfrompayasyouearnrealtimeinformationuk/january2021'"
      ]
     },
     "execution_count": 237,
     "metadata": {},
     "output_type": "execute_result"
    }
   ],
   "source": [
    "def getbulurl(link, n):\n",
    "    driver2.get(link)\n",
    "    \n",
    "    ps = driver2.find_elements_by_xpath(f\"//*[@id='main']/div[2]/div[1]/article/div[{n}]/section//p\")\n",
    "    \n",
    "    date = [i.text for i in ps if len(i.text) < 18][0]\n",
    "    reldate = \"Released: \" + date.rstrip()\n",
    "    \n",
    "    print(reldate)\n",
    "        \n",
    "    atags = [i for i in driver2.find_elements_by_xpath(f\"//*[@id='main']/div[2]/div[1]/article/div[{n}]/section//a[1]\")]\n",
    "    atags.reverse()\n",
    "    words = ['Back to the top', 'Data']\n",
    "    for word in words:\n",
    "        atags = [i for i in atags if (word not in i.text)]\n",
    "        \n",
    "    url1 = [i.get_attribute(\"href\") for i in atags][0]\n",
    "    \n",
    "    if url1.split(\"/\")[-1] == 'latest':\n",
    "        print(url1)\n",
    "        driver2.get(url1)\n",
    "        urlPrev = driver2.find_element_by_link_text(\"View previous releases\").get_attribute(\"href\")\n",
    "        \n",
    "        url = 'null'\n",
    "        \n",
    "        for i in range(1, 20):\n",
    "            driver2.get(urlPrev + \"?page=\" + str(i) )\n",
    "            lis = driver2.find_elements_by_xpath('//*[@id=\"main\"]/div[2]/div/div[1]/ul/li')\n",
    "            listoas = [i.find_element_by_tag_name(\"a\") for i in lis if i.find_element_by_tag_name(\"p\").text == reldate]\n",
    "            if len(listoas) > 0:\n",
    "                url = listoas[0].get_attribute(\"href\")\n",
    "                break\n",
    "    \n",
    "        if url == 'null':\n",
    "                \n",
    "            urlPrev = 'https://www.ons.gov.uk/economy/economicoutputandproductivity/output/bulletins/economicactivityandsocialchangeintheukrealtimeindicators/previousReleases'\n",
    "\n",
    "            for i in range(1, 20):\n",
    "                driver2.get(urlPrev + \"?page=\" + str(i) )\n",
    "                lis = driver2.find_elements_by_xpath('//*[@id=\"main\"]/div[2]/div/div[1]/ul/li')\n",
    "                listoas = [i.find_element_by_tag_name(\"a\") for i in lis if i.find_element_by_tag_name(\"p\").text == reldate]\n",
    "                if len(listoas) > 0:\n",
    "                    url = listoas[0].get_attribute(\"href\")\n",
    "                    break\n",
    " \n",
    "    else:\n",
    "        url = url1\n",
    "    \n",
    "    return url\n",
    "\n",
    "getbulurl('https://web.archive.org/web/20210126114928/https://www.ons.gov.uk/economy/economicoutputandproductivity/output/articles/ukeconomylatest/2021-01-25', 3)"
   ]
  },
  {
   "cell_type": "code",
   "execution_count": 238,
   "id": "658276da-f299-40a7-ab5b-b0aad8c3ba1d",
   "metadata": {},
   "outputs": [],
   "source": [
    "def getru(link, df):\n",
    "\n",
    "    driver.get(link)    \n",
    "    s = 1\n",
    "    \n",
    "    for n in range(3, 16):\n",
    "        \n",
    "        for i in range(0, 4):\n",
    "        \n",
    "            n1 = n\n",
    "            n2 = 1+i\n",
    "\n",
    "            print('n: ', n, 's: ', s, 'n1: ', n1, 'n2: ', n2)\n",
    "\n",
    "            if driver.find_elements_by_xpath(f\"//*[@id='main']/div[2]/div[1]/article/div[{n1}]/section/h2[{n2}]\"):\n",
    "\n",
    "                content = \"\"\n",
    "\n",
    "                content = content + driver.find_element_by_xpath(f\"//*[@id='main']/div[2]/div[1]/article/div[{n1}]/section/h2[{n2}]\").text + \"\\n\"\n",
    "\n",
    "                ps = driver.find_elements_by_xpath(f\"//*[@id='main']/div[2]/div[1]/article/div[{n}]/section//p\")\n",
    "\n",
    "                for i, j in enumerate(ps):\n",
    "                    if (i != 0) & (j.text != '') & (j.text not in ['', 'Back to the top', 'Analysis | Data']):\n",
    "                        content = content + j.text + \"\\n\"\n",
    "\n",
    "                if content not in [i for i in df['roundup']]:\n",
    "                    df = df.append({'page': link, 'section': s, 'roundup': content, 'bulletin_url': getbulurl(link, n), 'bulletin_mps': 'placeholder'}, ignore_index=True)\n",
    "    \n",
    "    return df"
   ]
  },
  {
   "cell_type": "code",
   "execution_count": 345,
   "id": "6dbfd820-80be-47bd-9f2e-eb5e2c9d0401",
   "metadata": {},
   "outputs": [
    {
     "name": "stdout",
     "output_type": "stream",
     "text": [
      "301\n"
     ]
    },
    {
     "data": {
      "text/plain": [
       "'https://web.archive.org/web/20220119130545/https://www.ons.gov.uk/peoplepopulationandcommunity/healthandsocialcare/conditionsanddiseases/articles/coronaviruscovid19/latestinsights'"
      ]
     },
     "execution_count": 345,
     "metadata": {},
     "output_type": "execute_result"
    }
   ],
   "source": [
    "print(len(final_urls))\n",
    "final_urls[164]"
   ]
  },
  {
   "cell_type": "code",
   "execution_count": 355,
   "id": "9058aef0-f280-49fa-8b8a-892539c846c1",
   "metadata": {},
   "outputs": [
    {
     "name": "stdout",
     "output_type": "stream",
     "text": [
      "['Infections decrease in England, Wales and Scotland', 'Early estimates suggest around 1 in 20 people in England would have tested positive for coronavirus (COVID-19) in the week to 15 January 2022.', 'During this period of high infections, we are publishing headline results of the Coronavirus Infection Survey two days early. These are subject to change as more data comes in but are based on an acceptable number of tests.', 'The percentage of people testing positive for COVID-19 decreased in England, Wales and Scotland, while the trend in Northern Ireland was uncertain in the latest week.', 'COVID-19 infections compatible with the Omicron variant continue to be the most dominant across all UK countries.', 'The estimated number of people living in private households (not in hospitals, care homes and/or other communal establishments) that had COVID-19 in the most recent week was:', ' - England – 2,984,200 people (1 in 20)', ' - Wales – 112,100 people (1 in 25)', ' - Northern Ireland – 104,300 people (1 in 20)', ' - Scotland – 236,600 people (1 in 20)', 'More detailed breakdowns for this period will continue to be published on Fridays.']\n",
      "[{'text': 'Read the latest headline results from the Coronavirus (COVID-19) Infection Survey', 'link': 'https://www.ons.gov.uk/peoplepopulationandcommunity/healthandsocialcare/conditionsanddiseases/bulletins/coronaviruscovid19infectionsurveypilot/19january2022'}]\n"
     ]
    }
   ],
   "source": [
    "def testrun(link):\n",
    "    driver.get(link)    \n",
    "    s = 0\n",
    "    piece = {}\n",
    "    links = {}\n",
    "    uninc = ['XLSX', 'Download', 'user requested data', 'Explore the latest insights', 'Read the latest insights', 'See the latest insights', 'Explore the latest indicators', 'Read the latest indicators', 'See the latest indicators']\n",
    "    linkwords = ['Read the bulletin', 'Read the latest', 'Latest bulletin', 'Read ']\n",
    "    \n",
    "    for n in range(3, 16):\n",
    "\n",
    "        if driver.find_elements_by_xpath(f'//*[@id=\"main\"]/div[2]/div[1]/article/div[{n}]/section/*'):\n",
    "            for el in driver.find_elements_by_xpath(f'//*[@id=\"main\"]/div[2]/div[1]/article/div[{n}]/section/*'):\n",
    "                if el.text == 'Also published recently':\n",
    "                    return [piece, links]\n",
    "                \n",
    "                \n",
    "                linky = False\n",
    "                if (el.tag_name == 'h2')|(el.tag_name == 'h3'):\n",
    "#                     print(\" *** \")\n",
    "                    s = s+1\n",
    "                    piece[s] = []\n",
    "                    links[s] = []\n",
    "                    piece[s].append(el.text)\n",
    "                if (el.tag_name == 'p') & (el.text not in ['','🠕 Back to the top']):\n",
    "                    \n",
    "                    inc = True\n",
    "                    \n",
    "                    # Check if contains a link\n",
    "                    if el.find_elements_by_xpath(\"a\"):\n",
    "                        for w in uninc:\n",
    "                            if w in el.find_element_by_xpath(\"a\").text:\n",
    "                                inc = False\n",
    "\n",
    "                        for w in linkwords:\n",
    "                            if w in el.find_element_by_xpath(\"a\").text:\n",
    "                                linky = True\n",
    "\n",
    "                        if linky:\n",
    "                            links[s].append({'text': el.text, 'link': el.get_attribute(\"href\")})\n",
    "\n",
    "                        elif inc:\n",
    "#                             print('el ', el.find_element_by_xpath(\"a\").text)\n",
    "                            piece[s].append(el.text)\n",
    "\n",
    "                            \n",
    "                    else:\n",
    "                        piece[s].append(el.text)\n",
    "                            \n",
    "                            \n",
    "                if (el.tag_name == 'ul') & (el.text not in ['','🠕 Back to the top']):\n",
    "                    for li in el.find_elements_by_xpath('li'):\n",
    "                        \n",
    "                        inc = True\n",
    "                        \n",
    "                        if li.find_elements_by_xpath(\"p\"):\n",
    "                            li = li.find_element_by_xpath(\"p\")                        \n",
    "                        \n",
    "                        # Check if contains a link\n",
    "                        if li.find_elements_by_xpath(\"a\"):\n",
    "                            for w in uninc:\n",
    "                                if w in li.find_element_by_xpath(\"a\").text:\n",
    "                                    inc = False\n",
    "\n",
    "                            for w in linkwords:\n",
    "                                if w in li.find_element_by_xpath(\"a\").text:\n",
    "                                    linky = True\n",
    "\n",
    "                            if linky:\n",
    "                                links[s].append({'text': li.text, 'link': li.find_element_by_xpath(\"a\").get_attribute(\"href\")})\n",
    "\n",
    "                            elif inc:\n",
    "#                                 print('li ', li.find_element_by_xpath(\"a\").text )\n",
    "                                piece[s].append(\" - \" + li.text)\n",
    "\n",
    "                        else:\n",
    "                            piece[s].append(\" - \" + li.text)\n",
    "\n",
    "                \n",
    "    return [piece, links]\n",
    "\n",
    "pieces = testrun(final_urls[164])\n",
    "print(pieces[0][1])\n",
    "print(pieces[1][1])"
   ]
  },
  {
   "cell_type": "code",
   "execution_count": 358,
   "id": "2df6087e-f07c-4d3a-b931-11c92bf70745",
   "metadata": {},
   "outputs": [
    {
     "name": "stdout",
     "output_type": "stream",
     "text": [
      "['More than 96% of the population have COVID-19 antibodies', 'In England, it is estimated that 97.5% of the adult population (95% credible interval: 97.0% to 97.9%) would have tested positive for antibodies against SARS-CoV-2 in the week beginning 20 December 2021.', 'In Wales, an estimated 96.8% of the adult population (95% credible interval: 95.9% to 97.5%) would have tested positive for antibodies against SARS-CoV-2 in the same week.', 'In Northern Ireland, it is estimated that 97.4% of the adult population (95% credible interval: 96.0% to 98.2%) would have tested positive for antibodies against SARS-CoV-2 in the same week.', 'In Scotland, it is estimated that 97.7% of the adult population (95% credible interval: 97.1% to 98.2%) would have tested positive for antibodies against SARS-CoV-2 in the same week.', 'Academic research on antibody thresholds using data from when the Delta variant was the dominant strain indicate that a higher threshold of antibodies is needed to provide protection from new coronavirus (COVID-19) infections for those who are vaccinated.', 'It is estimated that more than 88% of the population had antibodies at or above the higher threshold.', 'The COVID-19 vaccination booster programme was likely leading the rapid increase in antibodies above the higher threshold seen in older age groups.']\n",
      "[{'text': 'Read the latest bulletin on antibody and vaccination data in the UK', 'link': 'https://www.ons.gov.uk/peoplepopulationandcommunity/healthandsocialcare/conditionsanddiseases/bulletins/coronaviruscovid19infectionsurveyantibodyandvaccinationdatafortheuk/latest'}]\n"
     ]
    }
   ],
   "source": [
    "print(pieces[0][6])\n",
    "print(pieces[1][6])"
   ]
  },
  {
   "cell_type": "code",
   "execution_count": 359,
   "id": "91e6b681-b235-4636-99fa-0701724820d0",
   "metadata": {},
   "outputs": [],
   "source": [
    "def addpiecesandlinks(url, df):\n",
    "    pieces = testrun(url)\n",
    "    for k in pieces[0].keys():\n",
    "        if pieces[0][k] not in [i for i in df['roundup']]:\n",
    "            df = df.append({'page': url, 'section': k, 'roundup': pieces[0][k], 'bulletin_url': pieces[1][k], 'bulletin_mps': 'placeholder'}, ignore_index=True)\n",
    "    return df"
   ]
  },
  {
   "cell_type": "code",
   "execution_count": null,
   "id": "a29a053c-0fae-4619-a14a-d4c1ac00d9f4",
   "metadata": {},
   "outputs": [
    {
     "name": "stdout",
     "output_type": "stream",
     "text": [
      "164 https://web.archive.org/web/20220119130545/https://www.ons.gov.uk/peoplepopulationandcommunity/healthandsocialcare/conditionsanddiseases/articles/coronaviruscovid19/latestinsights\n",
      "165 https://web.archive.org/web/20220119132426/https://www.ons.gov.uk/peoplepopulationandcommunity/healthandsocialcare/conditionsanddiseases/articles/coronaviruscovid19/latestinsights\n",
      "166 https://web.archive.org/web/20220120065449/https://www.ons.gov.uk/peoplepopulationandcommunity/healthandsocialcare/conditionsanddiseases/articles/coronaviruscovid19/latestinsights\n",
      "167 https://web.archive.org/web/20220120110447/https://www.ons.gov.uk/peoplepopulationandcommunity/healthandsocialcare/conditionsanddiseases/articles/coronaviruscovid19/latestinsights\n",
      "168 https://web.archive.org/web/20220120132021/https://www.ons.gov.uk/peoplepopulationandcommunity/healthandsocialcare/conditionsanddiseases/articles/coronaviruscovid19/latestinsights\n",
      "169 https://web.archive.org/web/20220120210845/http://www.ons.gov.uk/peoplepopulationandcommunity/healthandsocialcare/conditionsanddiseases/articles/coronaviruscovid19/latestinsights\n",
      "170 https://web.archive.org/web/20220120232831/https://www.ons.gov.uk/peoplepopulationandcommunity/healthandsocialcare/conditionsanddiseases/articles/coronaviruscovid19/latestinsights\n",
      "171 https://web.archive.org/web/20220121012527/https://www.ons.gov.uk/peoplepopulationandcommunity/healthandsocialcare/conditionsanddiseases/articles/coronaviruscovid19/latestinsights\n",
      "172 https://web.archive.org/web/20220121104844/https://www.ons.gov.uk/peoplepopulationandcommunity/healthandsocialcare/conditionsanddiseases/articles/coronaviruscovid19/latestinsights\n",
      "173 https://web.archive.org/web/20220121121643/https://www.ons.gov.uk/peoplepopulationandcommunity/healthandsocialcare/conditionsanddiseases/articles/coronaviruscovid19/latestinsights\n",
      "174 https://web.archive.org/web/20220121135612/https://www.ons.gov.uk/peoplepopulationandcommunity/healthandsocialcare/conditionsanddiseases/articles/coronaviruscovid19/latestinsights\n",
      "175 https://web.archive.org/web/20220123150758/https://www.ons.gov.uk/peoplepopulationandcommunity/healthandsocialcare/conditionsanddiseases/articles/coronaviruscovid19/latestinsights\n",
      "176 https://web.archive.org/web/20220124050708/https://www.ons.gov.uk/peoplepopulationandcommunity/healthandsocialcare/conditionsanddiseases/articles/coronaviruscovid19/latestinsights\n",
      "177 https://web.archive.org/web/20220126021939/https://www.ons.gov.uk/peoplepopulationandcommunity/healthandsocialcare/conditionsanddiseases/articles/coronaviruscovid19/latestinsights\n",
      "178 https://web.archive.org/web/20220128121846/https://www.ons.gov.uk/peoplepopulationandcommunity/healthandsocialcare/conditionsanddiseases/articles/coronaviruscovid19/latestinsights\n",
      "179 https://web.archive.org/web/20220128233615/https://www.ons.gov.uk/peoplepopulationandcommunity/healthandsocialcare/conditionsanddiseases/articles/coronaviruscovid19/latestinsights\n",
      "180 https://web.archive.org/web/20220130112117/https://www.ons.gov.uk/peoplepopulationandcommunity/healthandsocialcare/conditionsanddiseases/articles/coronaviruscovid19/latestinsights\n",
      "181 https://web.archive.org/web/20220131005551/https://www.ons.gov.uk/peoplepopulationandcommunity/healthandsocialcare/conditionsanddiseases/articles/coronaviruscovid19/latestinsights\n",
      "182 https://web.archive.org/web/20220131030841/https://www.ons.gov.uk/peoplepopulationandcommunity/healthandsocialcare/conditionsanddiseases/articles/coronaviruscovid19/latestinsights\n",
      "183 https://web.archive.org/web/20220131172151/https://www.ons.gov.uk/peoplepopulationandcommunity/healthandsocialcare/conditionsanddiseases/articles/coronaviruscovid19/latestinsights\n",
      "184 https://web.archive.org/web/20220201070555/https://www.ons.gov.uk/peoplepopulationandcommunity/healthandsocialcare/conditionsanddiseases/articles/coronaviruscovid19/latestinsights\n",
      "185 https://web.archive.org/web/20220201132954/https://www.ons.gov.uk/peoplepopulationandcommunity/healthandsocialcare/conditionsanddiseases/articles/coronaviruscovid19/latestinsights\n",
      "186 https://web.archive.org/web/20220202030837/https://www.ons.gov.uk/peoplepopulationandcommunity/healthandsocialcare/conditionsanddiseases/articles/coronaviruscovid19/latestinsights\n",
      "187 https://web.archive.org/web/20220202045541/https://www.ons.gov.uk/peoplepopulationandcommunity/healthandsocialcare/conditionsanddiseases/articles/coronaviruscovid19/latestinsights\n",
      "188 https://web.archive.org/web/20220202060427/https://www.ons.gov.uk/peoplepopulationandcommunity/healthandsocialcare/conditionsanddiseases/articles/coronaviruscovid19/latestinsights\n",
      "189 https://web.archive.org/web/20220204121556/https://www.ons.gov.uk/peoplepopulationandcommunity/healthandsocialcare/conditionsanddiseases/articles/coronaviruscovid19/latestinsights\n",
      "190 https://web.archive.org/web/20220204123346/https://www.ons.gov.uk/peoplepopulationandcommunity/healthandsocialcare/conditionsanddiseases/articles/coronaviruscovid19/latestinsights\n",
      "191 https://web.archive.org/web/20220204200140/https://www.ons.gov.uk/peoplepopulationandcommunity/healthandsocialcare/conditionsanddiseases/articles/coronaviruscovid19/latestinsights\n",
      "192 https://web.archive.org/web/20220209002253/https://www.ons.gov.uk/peoplepopulationandcommunity/healthandsocialcare/conditionsanddiseases/articles/coronaviruscovid19/latestinsights\n",
      "193 https://web.archive.org/web/20220210214500/https://www.ons.gov.uk/peoplepopulationandcommunity/healthandsocialcare/conditionsanddiseases/articles/coronaviruscovid19/latestinsights\n",
      "194 https://web.archive.org/web/20220211122652/https://www.ons.gov.uk/peoplepopulationandcommunity/healthandsocialcare/conditionsanddiseases/articles/coronaviruscovid19/latestinsights\n",
      "195 https://web.archive.org/web/20220216125618/http://www.ons.gov.uk/peoplepopulationandcommunity/healthandsocialcare/conditionsanddiseases/articles/coronaviruscovid19/latestinsights\n",
      "196 https://web.archive.org/web/20220217121144/https://www.ons.gov.uk/peoplepopulationandcommunity/healthandsocialcare/conditionsanddiseases/articles/coronaviruscovid19/latestinsights\n",
      "197 https://web.archive.org/web/20220218121847/https://www.ons.gov.uk/peoplepopulationandcommunity/healthandsocialcare/conditionsanddiseases/articles/coronaviruscovid19/latestinsights\n",
      "198 https://web.archive.org/web/20220221232021/https://www.ons.gov.uk/peoplepopulationandcommunity/healthandsocialcare/conditionsanddiseases/articles/coronaviruscovid19/latestinsights\n",
      "199 https://web.archive.org/web/20220225091941/https://www.ons.gov.uk/peoplepopulationandcommunity/healthandsocialcare/conditionsanddiseases/articles/coronaviruscovid19/latestinsights\n",
      "200 https://web.archive.org/web/20220225120837/https://www.ons.gov.uk/peoplepopulationandcommunity/healthandsocialcare/conditionsanddiseases/articles/coronaviruscovid19/latestinsights\n",
      "201 https://web.archive.org/web/20220303082909/https://www.ons.gov.uk/peoplepopulationandcommunity/healthandsocialcare/conditionsanddiseases/articles/coronaviruscovid19/latestinsights/\n",
      "202 https://web.archive.org/web/20220304121123/https://www.ons.gov.uk/peoplepopulationandcommunity/healthandsocialcare/conditionsanddiseases/articles/coronaviruscovid19/latestinsights\n",
      "203 https://web.archive.org/web/20220308065720/https://www.ons.gov.uk/peoplepopulationandcommunity/healthandsocialcare/conditionsanddiseases/articles/coronaviruscovid19/latestinsights\n",
      "204 https://web.archive.org/web/20220310150836/https://www.ons.gov.uk/peoplepopulationandcommunity/healthandsocialcare/conditionsanddiseases/articles/coronaviruscovid19/latestinsights\n",
      "205 https://web.archive.org/web/20220310162515/https://www.ons.gov.uk/peoplepopulationandcommunity/healthandsocialcare/conditionsanddiseases/articles/coronaviruscovid19/latestinsights\n",
      "206 https://web.archive.org/web/20220312065038/https://www.ons.gov.uk/peoplepopulationandcommunity/healthandsocialcare/conditionsanddiseases/articles/coronaviruscovid19/latestinsights\n",
      "207 https://web.archive.org/web/20220312070616/https://www.ons.gov.uk/peoplepopulationandcommunity/healthandsocialcare/conditionsanddiseases/articles/coronaviruscovid19/latestinsights\n",
      "208 https://web.archive.org/web/20220312072140/https://www.ons.gov.uk/peoplepopulationandcommunity/healthandsocialcare/conditionsanddiseases/articles/coronaviruscovid19/latestinsights\n",
      "209 https://web.archive.org/web/20220312073659/https://www.ons.gov.uk/peoplepopulationandcommunity/healthandsocialcare/conditionsanddiseases/articles/coronaviruscovid19/latestinsights\n",
      "210 https://web.archive.org/web/20220312083940/https://www.ons.gov.uk/peoplepopulationandcommunity/healthandsocialcare/conditionsanddiseases/articles/coronaviruscovid19/latestinsights\n",
      "211 https://web.archive.org/web/20220312105017/https://www.ons.gov.uk/peoplepopulationandcommunity/healthandsocialcare/conditionsanddiseases/articles/coronaviruscovid19/latestinsights\n",
      "212 https://web.archive.org/web/20220312105530/https://www.ons.gov.uk/peoplepopulationandcommunity/healthandsocialcare/conditionsanddiseases/articles/coronaviruscovid19/latestinsights\n",
      "213 https://web.archive.org/web/20220313041644/https://www.ons.gov.uk/peoplepopulationandcommunity/healthandsocialcare/conditionsanddiseases/articles/coronaviruscovid19/latestinsights\n",
      "214 https://web.archive.org/web/20220314082351/https://www.ons.gov.uk/peoplepopulationandcommunity/healthandsocialcare/conditionsanddiseases/articles/coronaviruscovid19/latestinsights\n",
      "215 https://web.archive.org/web/20220314204609/https://www.ons.gov.uk/peoplepopulationandcommunity/healthandsocialcare/conditionsanddiseases/articles/coronaviruscovid19/latestinsights\n",
      "216 https://web.archive.org/web/20220315153019/https://www.ons.gov.uk/peoplepopulationandcommunity/healthandsocialcare/conditionsanddiseases/articles/coronaviruscovid19/latestinsights\n",
      "217 https://web.archive.org/web/20220315163111/https://www.ons.gov.uk/peoplepopulationandcommunity/healthandsocialcare/conditionsanddiseases/articles/coronaviruscovid19/latestinsights\n",
      "218 https://web.archive.org/web/20220316205544/https://www.ons.gov.uk/peoplepopulationandcommunity/healthandsocialcare/conditionsanddiseases/articles/coronaviruscovid19/latestinsights\n",
      "219 https://web.archive.org/web/20220316210559/https://www.ons.gov.uk/peoplepopulationandcommunity/healthandsocialcare/conditionsanddiseases/articles/coronaviruscovid19/latestinsights\n",
      "220 https://web.archive.org/web/20220316211125/https://www.ons.gov.uk/peoplepopulationandcommunity/healthandsocialcare/conditionsanddiseases/articles/coronaviruscovid19/latestinsights\n",
      "221 https://web.archive.org/web/20220316220948/https://www.ons.gov.uk/peoplepopulationandcommunity/healthandsocialcare/conditionsanddiseases/articles/coronaviruscovid19/latestinsights\n",
      "222 https://web.archive.org/web/20220316222444/https://www.ons.gov.uk/peoplepopulationandcommunity/healthandsocialcare/conditionsanddiseases/articles/coronaviruscovid19/latestinsights\n",
      "223 https://web.archive.org/web/20220316222547/https://www.ons.gov.uk/peoplepopulationandcommunity/healthandsocialcare/conditionsanddiseases/articles/coronaviruscovid19/latestinsights\n",
      "224 https://web.archive.org/web/20220316225909/https://www.ons.gov.uk/peoplepopulationandcommunity/healthandsocialcare/conditionsanddiseases/articles/coronaviruscovid19/latestinsights\n",
      "225 https://web.archive.org/web/20220316232304/https://www.ons.gov.uk/peoplepopulationandcommunity/healthandsocialcare/conditionsanddiseases/articles/coronaviruscovid19/latestinsights\n",
      "226 https://web.archive.org/web/20220316233855/https://www.ons.gov.uk/peoplepopulationandcommunity/healthandsocialcare/conditionsanddiseases/articles/coronaviruscovid19/latestinsights\n",
      "227 https://web.archive.org/web/20220316235511/https://www.ons.gov.uk/peoplepopulationandcommunity/healthandsocialcare/conditionsanddiseases/articles/coronaviruscovid19/latestinsights\n",
      "228 https://web.archive.org/web/20220317010731/https://www.ons.gov.uk/peoplepopulationandcommunity/healthandsocialcare/conditionsanddiseases/articles/coronaviruscovid19/latestinsights\n",
      "229 https://web.archive.org/web/20220317010754/https://www.ons.gov.uk/peoplepopulationandcommunity/healthandsocialcare/conditionsanddiseases/articles/coronaviruscovid19/latestinsights\n",
      "230 https://web.archive.org/web/20220317020520/https://www.ons.gov.uk/peoplepopulationandcommunity/healthandsocialcare/conditionsanddiseases/articles/coronaviruscovid19/latestinsights\n",
      "231 https://web.archive.org/web/20220317021029/https://www.ons.gov.uk/peoplepopulationandcommunity/healthandsocialcare/conditionsanddiseases/articles/coronaviruscovid19/latestinsights\n",
      "232 https://web.archive.org/web/20220317022108/https://www.ons.gov.uk/peoplepopulationandcommunity/healthandsocialcare/conditionsanddiseases/articles/coronaviruscovid19/latestinsights\n",
      "233 https://web.archive.org/web/20220317064222/https://www.ons.gov.uk/peoplepopulationandcommunity/healthandsocialcare/conditionsanddiseases/articles/coronaviruscovid19/latestinsights\n",
      "234 https://web.archive.org/web/20220317152503/https://www.ons.gov.uk/peoplepopulationandcommunity/healthandsocialcare/conditionsanddiseases/articles/coronaviruscovid19/latestinsights\n"
     ]
    }
   ],
   "source": [
    "for i, url in enumerate(final_urls):\n",
    "    if i>163:\n",
    "        print(i, url)\n",
    "        df = addpiecesandlinks(url, df)"
   ]
  },
  {
   "cell_type": "code",
   "execution_count": 351,
   "id": "7e3df513-405a-464e-ae86-b2d43492989b",
   "metadata": {},
   "outputs": [],
   "source": [
    "df = df.iloc[:-5 , :]\n"
   ]
  },
  {
   "cell_type": "code",
   "execution_count": 352,
   "id": "45ae14fe-92f7-4b8d-b230-f6f491632743",
   "metadata": {},
   "outputs": [
    {
     "data": {
      "text/html": [
       "<div>\n",
       "<style scoped>\n",
       "    .dataframe tbody tr th:only-of-type {\n",
       "        vertical-align: middle;\n",
       "    }\n",
       "\n",
       "    .dataframe tbody tr th {\n",
       "        vertical-align: top;\n",
       "    }\n",
       "\n",
       "    .dataframe thead th {\n",
       "        text-align: right;\n",
       "    }\n",
       "</style>\n",
       "<table border=\"1\" class=\"dataframe\">\n",
       "  <thead>\n",
       "    <tr style=\"text-align: right;\">\n",
       "      <th></th>\n",
       "      <th>page</th>\n",
       "      <th>section</th>\n",
       "      <th>roundup</th>\n",
       "      <th>bulletin_url</th>\n",
       "      <th>bulletin_mps</th>\n",
       "    </tr>\n",
       "  </thead>\n",
       "  <tbody>\n",
       "    <tr>\n",
       "      <th>0</th>\n",
       "      <td>https://web.archive.org/web/20210709115515/htt...</td>\n",
       "      <td>1.0</td>\n",
       "      <td>[Infections have increased across the UK, Coro...</td>\n",
       "      <td>[{'text': 'Read the latest Coronavirus (COVID-...</td>\n",
       "      <td>placeholder</td>\n",
       "    </tr>\n",
       "    <tr>\n",
       "      <th>1</th>\n",
       "      <td>https://web.archive.org/web/20210709115515/htt...</td>\n",
       "      <td>2.0</td>\n",
       "      <td>[Most report more social distancing than they ...</td>\n",
       "      <td>[{'text': 'Latest bulletin on Coronavirus and ...</td>\n",
       "      <td>placeholder</td>\n",
       "    </tr>\n",
       "    <tr>\n",
       "      <th>2</th>\n",
       "      <td>https://web.archive.org/web/20210709115515/htt...</td>\n",
       "      <td>3.0</td>\n",
       "      <td>[COVID-19 antibodies continue to rise in line ...</td>\n",
       "      <td>[{'text': 'Latest bulletin on antibody and vac...</td>\n",
       "      <td>placeholder</td>\n",
       "    </tr>\n",
       "    <tr>\n",
       "      <th>3</th>\n",
       "      <td>https://web.archive.org/web/20210709115515/htt...</td>\n",
       "      <td>4.0</td>\n",
       "      <td>[Deaths in England and Wales fall below five-y...</td>\n",
       "      <td>[{'text': 'Latest bulletin on deaths registere...</td>\n",
       "      <td>placeholder</td>\n",
       "    </tr>\n",
       "    <tr>\n",
       "      <th>4</th>\n",
       "      <td>https://web.archive.org/web/20210709115515/htt...</td>\n",
       "      <td>5.0</td>\n",
       "      <td>[North West and London had highest coronavirus...</td>\n",
       "      <td>[{'text': 'Read Deaths registered due to COVID...</td>\n",
       "      <td>placeholder</td>\n",
       "    </tr>\n",
       "    <tr>\n",
       "      <th>...</th>\n",
       "      <td>...</td>\n",
       "      <td>...</td>\n",
       "      <td>...</td>\n",
       "      <td>...</td>\n",
       "      <td>...</td>\n",
       "    </tr>\n",
       "    <tr>\n",
       "      <th>190</th>\n",
       "      <td>https://web.archive.org/web/20220107132750/htt...</td>\n",
       "      <td>2.0</td>\n",
       "      <td>[Fewer worried about pandemic impact than at t...</td>\n",
       "      <td>[{'text': 'Read the bulletin on Coronavirus an...</td>\n",
       "      <td>placeholder</td>\n",
       "    </tr>\n",
       "    <tr>\n",
       "      <th>191</th>\n",
       "      <td>https://web.archive.org/web/20220107132750/htt...</td>\n",
       "      <td>3.0</td>\n",
       "      <td>[Coronavirus (COVID-19) deaths rose in England...</td>\n",
       "      <td>[{'text': 'Read the latest bulletin on deaths ...</td>\n",
       "      <td>placeholder</td>\n",
       "    </tr>\n",
       "    <tr>\n",
       "      <th>192</th>\n",
       "      <td>https://web.archive.org/web/20220107132750/htt...</td>\n",
       "      <td>4.0</td>\n",
       "      <td>[Long COVID continues to affect more than a mi...</td>\n",
       "      <td>[{'text': 'Read the latest bulletin on prevale...</td>\n",
       "      <td>placeholder</td>\n",
       "    </tr>\n",
       "    <tr>\n",
       "      <th>193</th>\n",
       "      <td>https://web.archive.org/web/20220107132750/htt...</td>\n",
       "      <td>5.0</td>\n",
       "      <td>[Retail footfall 75% of 2019 level, In the wee...</td>\n",
       "      <td>[{'text': 'Read the latest bulletin on Economi...</td>\n",
       "      <td>placeholder</td>\n",
       "    </tr>\n",
       "    <tr>\n",
       "      <th>194</th>\n",
       "      <td>https://web.archive.org/web/20220119033346/htt...</td>\n",
       "      <td>1.0</td>\n",
       "      <td>[UK coronavirus (COVID-19) deaths rose in the ...</td>\n",
       "      <td>[{'text': 'Read the latest bulletin on deaths ...</td>\n",
       "      <td>placeholder</td>\n",
       "    </tr>\n",
       "  </tbody>\n",
       "</table>\n",
       "<p>195 rows × 5 columns</p>\n",
       "</div>"
      ],
      "text/plain": [
       "                                                  page  section  \\\n",
       "0    https://web.archive.org/web/20210709115515/htt...      1.0   \n",
       "1    https://web.archive.org/web/20210709115515/htt...      2.0   \n",
       "2    https://web.archive.org/web/20210709115515/htt...      3.0   \n",
       "3    https://web.archive.org/web/20210709115515/htt...      4.0   \n",
       "4    https://web.archive.org/web/20210709115515/htt...      5.0   \n",
       "..                                                 ...      ...   \n",
       "190  https://web.archive.org/web/20220107132750/htt...      2.0   \n",
       "191  https://web.archive.org/web/20220107132750/htt...      3.0   \n",
       "192  https://web.archive.org/web/20220107132750/htt...      4.0   \n",
       "193  https://web.archive.org/web/20220107132750/htt...      5.0   \n",
       "194  https://web.archive.org/web/20220119033346/htt...      1.0   \n",
       "\n",
       "                                               roundup  \\\n",
       "0    [Infections have increased across the UK, Coro...   \n",
       "1    [Most report more social distancing than they ...   \n",
       "2    [COVID-19 antibodies continue to rise in line ...   \n",
       "3    [Deaths in England and Wales fall below five-y...   \n",
       "4    [North West and London had highest coronavirus...   \n",
       "..                                                 ...   \n",
       "190  [Fewer worried about pandemic impact than at t...   \n",
       "191  [Coronavirus (COVID-19) deaths rose in England...   \n",
       "192  [Long COVID continues to affect more than a mi...   \n",
       "193  [Retail footfall 75% of 2019 level, In the wee...   \n",
       "194  [UK coronavirus (COVID-19) deaths rose in the ...   \n",
       "\n",
       "                                          bulletin_url bulletin_mps  \n",
       "0    [{'text': 'Read the latest Coronavirus (COVID-...  placeholder  \n",
       "1    [{'text': 'Latest bulletin on Coronavirus and ...  placeholder  \n",
       "2    [{'text': 'Latest bulletin on antibody and vac...  placeholder  \n",
       "3    [{'text': 'Latest bulletin on deaths registere...  placeholder  \n",
       "4    [{'text': 'Read Deaths registered due to COVID...  placeholder  \n",
       "..                                                 ...          ...  \n",
       "190  [{'text': 'Read the bulletin on Coronavirus an...  placeholder  \n",
       "191  [{'text': 'Read the latest bulletin on deaths ...  placeholder  \n",
       "192  [{'text': 'Read the latest bulletin on prevale...  placeholder  \n",
       "193  [{'text': 'Read the latest bulletin on Economi...  placeholder  \n",
       "194  [{'text': 'Read the latest bulletin on deaths ...  placeholder  \n",
       "\n",
       "[195 rows x 5 columns]"
      ]
     },
     "execution_count": 352,
     "metadata": {},
     "output_type": "execute_result"
    }
   ],
   "source": [
    "df"
   ]
  },
  {
   "cell_type": "code",
   "execution_count": 8,
   "id": "d2bc367e-a5ac-464e-b734-761a0d659210",
   "metadata": {
    "collapsed": true,
    "jupyter": {
     "outputs_hidden": true
    },
    "tags": []
   },
   "outputs": [
    {
     "name": "stdout",
     "output_type": "stream",
     "text": [
      "n 2\n",
      "n 3\n",
      "n 4\n",
      "n 5\n",
      "n 6\n",
      "n 7\n",
      "n 2\n",
      "n 3\n",
      "n 4\n",
      "n 5\n",
      "n 6\n",
      "n 7\n",
      "n 2\n",
      "n 3\n",
      "n 4\n",
      "n 5\n",
      "n 6\n",
      "n 7\n",
      "n 2\n",
      "n 3\n",
      "n 4\n",
      "n 5\n",
      "n 6\n",
      "n 7\n",
      "n 2\n",
      "n 3\n",
      "n 4\n",
      "n 5\n",
      "n 6\n",
      "n 7\n"
     ]
    },
    {
     "ename": "KeyboardInterrupt",
     "evalue": "",
     "output_type": "error",
     "traceback": [
      "\u001b[0;31m---------------------------------------------------------------------------\u001b[0m",
      "\u001b[0;31mKeyboardInterrupt\u001b[0m                         Traceback (most recent call last)",
      "\u001b[0;32m<ipython-input-8-74d38a6b45ee>\u001b[0m in \u001b[0;36m<module>\u001b[0;34m\u001b[0m\n\u001b[1;32m      1\u001b[0m \u001b[0;32mfor\u001b[0m \u001b[0murl\u001b[0m \u001b[0;32min\u001b[0m \u001b[0mfinal_urls\u001b[0m\u001b[0;34m:\u001b[0m\u001b[0;34m\u001b[0m\u001b[0;34m\u001b[0m\u001b[0m\n\u001b[0;32m----> 2\u001b[0;31m     \u001b[0mdf\u001b[0m \u001b[0;34m=\u001b[0m \u001b[0mgetru\u001b[0m\u001b[0;34m(\u001b[0m\u001b[0murl\u001b[0m\u001b[0;34m,\u001b[0m \u001b[0mdf\u001b[0m\u001b[0;34m)\u001b[0m\u001b[0;34m\u001b[0m\u001b[0;34m\u001b[0m\u001b[0m\n\u001b[0m",
      "\u001b[0;32m<ipython-input-7-deaa86145feb>\u001b[0m in \u001b[0;36mgetru\u001b[0;34m(link, df)\u001b[0m\n\u001b[1;32m      1\u001b[0m \u001b[0;32mdef\u001b[0m \u001b[0mgetru\u001b[0m\u001b[0;34m(\u001b[0m\u001b[0mlink\u001b[0m\u001b[0;34m,\u001b[0m \u001b[0mdf\u001b[0m\u001b[0;34m)\u001b[0m\u001b[0;34m:\u001b[0m\u001b[0;34m\u001b[0m\u001b[0;34m\u001b[0m\u001b[0m\n\u001b[1;32m      2\u001b[0m \u001b[0;34m\u001b[0m\u001b[0m\n\u001b[0;32m----> 3\u001b[0;31m     \u001b[0mdriver\u001b[0m\u001b[0;34m.\u001b[0m\u001b[0mget\u001b[0m\u001b[0;34m(\u001b[0m\u001b[0mlink\u001b[0m\u001b[0;34m)\u001b[0m\u001b[0;34m\u001b[0m\u001b[0;34m\u001b[0m\u001b[0m\n\u001b[0m\u001b[1;32m      4\u001b[0m \u001b[0;34m\u001b[0m\u001b[0m\n\u001b[1;32m      5\u001b[0m     \u001b[0;32mfor\u001b[0m \u001b[0mn\u001b[0m \u001b[0;32min\u001b[0m \u001b[0mrange\u001b[0m\u001b[0;34m(\u001b[0m\u001b[0;36m2\u001b[0m\u001b[0;34m,\u001b[0m \u001b[0;36m8\u001b[0m\u001b[0;34m)\u001b[0m\u001b[0;34m:\u001b[0m\u001b[0;34m\u001b[0m\u001b[0;34m\u001b[0m\u001b[0m\n",
      "\u001b[0;32m~/opt/anaconda3/lib/python3.8/site-packages/selenium/webdriver/remote/webdriver.py\u001b[0m in \u001b[0;36mget\u001b[0;34m(self, url)\u001b[0m\n\u001b[1;32m    331\u001b[0m         \u001b[0mLoads\u001b[0m \u001b[0ma\u001b[0m \u001b[0mweb\u001b[0m \u001b[0mpage\u001b[0m \u001b[0;32min\u001b[0m \u001b[0mthe\u001b[0m \u001b[0mcurrent\u001b[0m \u001b[0mbrowser\u001b[0m \u001b[0msession\u001b[0m\u001b[0;34m.\u001b[0m\u001b[0;34m\u001b[0m\u001b[0;34m\u001b[0m\u001b[0m\n\u001b[1;32m    332\u001b[0m         \"\"\"\n\u001b[0;32m--> 333\u001b[0;31m         \u001b[0mself\u001b[0m\u001b[0;34m.\u001b[0m\u001b[0mexecute\u001b[0m\u001b[0;34m(\u001b[0m\u001b[0mCommand\u001b[0m\u001b[0;34m.\u001b[0m\u001b[0mGET\u001b[0m\u001b[0;34m,\u001b[0m \u001b[0;34m{\u001b[0m\u001b[0;34m'url'\u001b[0m\u001b[0;34m:\u001b[0m \u001b[0murl\u001b[0m\u001b[0;34m}\u001b[0m\u001b[0;34m)\u001b[0m\u001b[0;34m\u001b[0m\u001b[0;34m\u001b[0m\u001b[0m\n\u001b[0m\u001b[1;32m    334\u001b[0m \u001b[0;34m\u001b[0m\u001b[0m\n\u001b[1;32m    335\u001b[0m     \u001b[0;34m@\u001b[0m\u001b[0mproperty\u001b[0m\u001b[0;34m\u001b[0m\u001b[0;34m\u001b[0m\u001b[0m\n",
      "\u001b[0;32m~/opt/anaconda3/lib/python3.8/site-packages/selenium/webdriver/remote/webdriver.py\u001b[0m in \u001b[0;36mexecute\u001b[0;34m(self, driver_command, params)\u001b[0m\n\u001b[1;32m    317\u001b[0m \u001b[0;34m\u001b[0m\u001b[0m\n\u001b[1;32m    318\u001b[0m         \u001b[0mparams\u001b[0m \u001b[0;34m=\u001b[0m \u001b[0mself\u001b[0m\u001b[0;34m.\u001b[0m\u001b[0m_wrap_value\u001b[0m\u001b[0;34m(\u001b[0m\u001b[0mparams\u001b[0m\u001b[0;34m)\u001b[0m\u001b[0;34m\u001b[0m\u001b[0;34m\u001b[0m\u001b[0m\n\u001b[0;32m--> 319\u001b[0;31m         \u001b[0mresponse\u001b[0m \u001b[0;34m=\u001b[0m \u001b[0mself\u001b[0m\u001b[0;34m.\u001b[0m\u001b[0mcommand_executor\u001b[0m\u001b[0;34m.\u001b[0m\u001b[0mexecute\u001b[0m\u001b[0;34m(\u001b[0m\u001b[0mdriver_command\u001b[0m\u001b[0;34m,\u001b[0m \u001b[0mparams\u001b[0m\u001b[0;34m)\u001b[0m\u001b[0;34m\u001b[0m\u001b[0;34m\u001b[0m\u001b[0m\n\u001b[0m\u001b[1;32m    320\u001b[0m         \u001b[0;32mif\u001b[0m \u001b[0mresponse\u001b[0m\u001b[0;34m:\u001b[0m\u001b[0;34m\u001b[0m\u001b[0;34m\u001b[0m\u001b[0m\n\u001b[1;32m    321\u001b[0m             \u001b[0mself\u001b[0m\u001b[0;34m.\u001b[0m\u001b[0merror_handler\u001b[0m\u001b[0;34m.\u001b[0m\u001b[0mcheck_response\u001b[0m\u001b[0;34m(\u001b[0m\u001b[0mresponse\u001b[0m\u001b[0;34m)\u001b[0m\u001b[0;34m\u001b[0m\u001b[0;34m\u001b[0m\u001b[0m\n",
      "\u001b[0;32m~/opt/anaconda3/lib/python3.8/site-packages/selenium/webdriver/remote/remote_connection.py\u001b[0m in \u001b[0;36mexecute\u001b[0;34m(self, command, params)\u001b[0m\n\u001b[1;32m    372\u001b[0m         \u001b[0mdata\u001b[0m \u001b[0;34m=\u001b[0m \u001b[0mutils\u001b[0m\u001b[0;34m.\u001b[0m\u001b[0mdump_json\u001b[0m\u001b[0;34m(\u001b[0m\u001b[0mparams\u001b[0m\u001b[0;34m)\u001b[0m\u001b[0;34m\u001b[0m\u001b[0;34m\u001b[0m\u001b[0m\n\u001b[1;32m    373\u001b[0m         \u001b[0murl\u001b[0m \u001b[0;34m=\u001b[0m \u001b[0;34m'%s%s'\u001b[0m \u001b[0;34m%\u001b[0m \u001b[0;34m(\u001b[0m\u001b[0mself\u001b[0m\u001b[0;34m.\u001b[0m\u001b[0m_url\u001b[0m\u001b[0;34m,\u001b[0m \u001b[0mpath\u001b[0m\u001b[0;34m)\u001b[0m\u001b[0;34m\u001b[0m\u001b[0;34m\u001b[0m\u001b[0m\n\u001b[0;32m--> 374\u001b[0;31m         \u001b[0;32mreturn\u001b[0m \u001b[0mself\u001b[0m\u001b[0;34m.\u001b[0m\u001b[0m_request\u001b[0m\u001b[0;34m(\u001b[0m\u001b[0mcommand_info\u001b[0m\u001b[0;34m[\u001b[0m\u001b[0;36m0\u001b[0m\u001b[0;34m]\u001b[0m\u001b[0;34m,\u001b[0m \u001b[0murl\u001b[0m\u001b[0;34m,\u001b[0m \u001b[0mbody\u001b[0m\u001b[0;34m=\u001b[0m\u001b[0mdata\u001b[0m\u001b[0;34m)\u001b[0m\u001b[0;34m\u001b[0m\u001b[0;34m\u001b[0m\u001b[0m\n\u001b[0m\u001b[1;32m    375\u001b[0m \u001b[0;34m\u001b[0m\u001b[0m\n\u001b[1;32m    376\u001b[0m     \u001b[0;32mdef\u001b[0m \u001b[0m_request\u001b[0m\u001b[0;34m(\u001b[0m\u001b[0mself\u001b[0m\u001b[0;34m,\u001b[0m \u001b[0mmethod\u001b[0m\u001b[0;34m,\u001b[0m \u001b[0murl\u001b[0m\u001b[0;34m,\u001b[0m \u001b[0mbody\u001b[0m\u001b[0;34m=\u001b[0m\u001b[0;32mNone\u001b[0m\u001b[0;34m)\u001b[0m\u001b[0;34m:\u001b[0m\u001b[0;34m\u001b[0m\u001b[0;34m\u001b[0m\u001b[0m\n",
      "\u001b[0;32m~/opt/anaconda3/lib/python3.8/site-packages/selenium/webdriver/remote/remote_connection.py\u001b[0m in \u001b[0;36m_request\u001b[0;34m(self, method, url, body)\u001b[0m\n\u001b[1;32m    395\u001b[0m \u001b[0;34m\u001b[0m\u001b[0m\n\u001b[1;32m    396\u001b[0m         \u001b[0;32mif\u001b[0m \u001b[0mself\u001b[0m\u001b[0;34m.\u001b[0m\u001b[0mkeep_alive\u001b[0m\u001b[0;34m:\u001b[0m\u001b[0;34m\u001b[0m\u001b[0;34m\u001b[0m\u001b[0m\n\u001b[0;32m--> 397\u001b[0;31m             \u001b[0mresp\u001b[0m \u001b[0;34m=\u001b[0m \u001b[0mself\u001b[0m\u001b[0;34m.\u001b[0m\u001b[0m_conn\u001b[0m\u001b[0;34m.\u001b[0m\u001b[0mrequest\u001b[0m\u001b[0;34m(\u001b[0m\u001b[0mmethod\u001b[0m\u001b[0;34m,\u001b[0m \u001b[0murl\u001b[0m\u001b[0;34m,\u001b[0m \u001b[0mbody\u001b[0m\u001b[0;34m=\u001b[0m\u001b[0mbody\u001b[0m\u001b[0;34m,\u001b[0m \u001b[0mheaders\u001b[0m\u001b[0;34m=\u001b[0m\u001b[0mheaders\u001b[0m\u001b[0;34m)\u001b[0m\u001b[0;34m\u001b[0m\u001b[0;34m\u001b[0m\u001b[0m\n\u001b[0m\u001b[1;32m    398\u001b[0m \u001b[0;34m\u001b[0m\u001b[0m\n\u001b[1;32m    399\u001b[0m             \u001b[0mstatuscode\u001b[0m \u001b[0;34m=\u001b[0m \u001b[0mresp\u001b[0m\u001b[0;34m.\u001b[0m\u001b[0mstatus\u001b[0m\u001b[0;34m\u001b[0m\u001b[0;34m\u001b[0m\u001b[0m\n",
      "\u001b[0;32m~/opt/anaconda3/lib/python3.8/site-packages/urllib3/request.py\u001b[0m in \u001b[0;36mrequest\u001b[0;34m(self, method, url, fields, headers, **urlopen_kw)\u001b[0m\n\u001b[1;32m     76\u001b[0m             )\n\u001b[1;32m     77\u001b[0m         \u001b[0;32melse\u001b[0m\u001b[0;34m:\u001b[0m\u001b[0;34m\u001b[0m\u001b[0;34m\u001b[0m\u001b[0m\n\u001b[0;32m---> 78\u001b[0;31m             return self.request_encode_body(\n\u001b[0m\u001b[1;32m     79\u001b[0m                 \u001b[0mmethod\u001b[0m\u001b[0;34m,\u001b[0m \u001b[0murl\u001b[0m\u001b[0;34m,\u001b[0m \u001b[0mfields\u001b[0m\u001b[0;34m=\u001b[0m\u001b[0mfields\u001b[0m\u001b[0;34m,\u001b[0m \u001b[0mheaders\u001b[0m\u001b[0;34m=\u001b[0m\u001b[0mheaders\u001b[0m\u001b[0;34m,\u001b[0m \u001b[0;34m**\u001b[0m\u001b[0murlopen_kw\u001b[0m\u001b[0;34m\u001b[0m\u001b[0;34m\u001b[0m\u001b[0m\n\u001b[1;32m     80\u001b[0m             )\n",
      "\u001b[0;32m~/opt/anaconda3/lib/python3.8/site-packages/urllib3/request.py\u001b[0m in \u001b[0;36mrequest_encode_body\u001b[0;34m(self, method, url, fields, headers, encode_multipart, multipart_boundary, **urlopen_kw)\u001b[0m\n\u001b[1;32m    168\u001b[0m         \u001b[0mextra_kw\u001b[0m\u001b[0;34m.\u001b[0m\u001b[0mupdate\u001b[0m\u001b[0;34m(\u001b[0m\u001b[0murlopen_kw\u001b[0m\u001b[0;34m)\u001b[0m\u001b[0;34m\u001b[0m\u001b[0;34m\u001b[0m\u001b[0m\n\u001b[1;32m    169\u001b[0m \u001b[0;34m\u001b[0m\u001b[0m\n\u001b[0;32m--> 170\u001b[0;31m         \u001b[0;32mreturn\u001b[0m \u001b[0mself\u001b[0m\u001b[0;34m.\u001b[0m\u001b[0murlopen\u001b[0m\u001b[0;34m(\u001b[0m\u001b[0mmethod\u001b[0m\u001b[0;34m,\u001b[0m \u001b[0murl\u001b[0m\u001b[0;34m,\u001b[0m \u001b[0;34m**\u001b[0m\u001b[0mextra_kw\u001b[0m\u001b[0;34m)\u001b[0m\u001b[0;34m\u001b[0m\u001b[0;34m\u001b[0m\u001b[0m\n\u001b[0m",
      "\u001b[0;32m~/opt/anaconda3/lib/python3.8/site-packages/urllib3/poolmanager.py\u001b[0m in \u001b[0;36murlopen\u001b[0;34m(self, method, url, redirect, **kw)\u001b[0m\n\u001b[1;32m    373\u001b[0m             \u001b[0mresponse\u001b[0m \u001b[0;34m=\u001b[0m \u001b[0mconn\u001b[0m\u001b[0;34m.\u001b[0m\u001b[0murlopen\u001b[0m\u001b[0;34m(\u001b[0m\u001b[0mmethod\u001b[0m\u001b[0;34m,\u001b[0m \u001b[0murl\u001b[0m\u001b[0;34m,\u001b[0m \u001b[0;34m**\u001b[0m\u001b[0mkw\u001b[0m\u001b[0;34m)\u001b[0m\u001b[0;34m\u001b[0m\u001b[0;34m\u001b[0m\u001b[0m\n\u001b[1;32m    374\u001b[0m         \u001b[0;32melse\u001b[0m\u001b[0;34m:\u001b[0m\u001b[0;34m\u001b[0m\u001b[0;34m\u001b[0m\u001b[0m\n\u001b[0;32m--> 375\u001b[0;31m             \u001b[0mresponse\u001b[0m \u001b[0;34m=\u001b[0m \u001b[0mconn\u001b[0m\u001b[0;34m.\u001b[0m\u001b[0murlopen\u001b[0m\u001b[0;34m(\u001b[0m\u001b[0mmethod\u001b[0m\u001b[0;34m,\u001b[0m \u001b[0mu\u001b[0m\u001b[0;34m.\u001b[0m\u001b[0mrequest_uri\u001b[0m\u001b[0;34m,\u001b[0m \u001b[0;34m**\u001b[0m\u001b[0mkw\u001b[0m\u001b[0;34m)\u001b[0m\u001b[0;34m\u001b[0m\u001b[0;34m\u001b[0m\u001b[0m\n\u001b[0m\u001b[1;32m    376\u001b[0m \u001b[0;34m\u001b[0m\u001b[0m\n\u001b[1;32m    377\u001b[0m         \u001b[0mredirect_location\u001b[0m \u001b[0;34m=\u001b[0m \u001b[0mredirect\u001b[0m \u001b[0;32mand\u001b[0m \u001b[0mresponse\u001b[0m\u001b[0;34m.\u001b[0m\u001b[0mget_redirect_location\u001b[0m\u001b[0;34m(\u001b[0m\u001b[0;34m)\u001b[0m\u001b[0;34m\u001b[0m\u001b[0;34m\u001b[0m\u001b[0m\n",
      "\u001b[0;32m~/opt/anaconda3/lib/python3.8/site-packages/urllib3/connectionpool.py\u001b[0m in \u001b[0;36murlopen\u001b[0;34m(self, method, url, body, headers, retries, redirect, assert_same_host, timeout, pool_timeout, release_conn, chunked, body_pos, **response_kw)\u001b[0m\n\u001b[1;32m    697\u001b[0m \u001b[0;34m\u001b[0m\u001b[0m\n\u001b[1;32m    698\u001b[0m             \u001b[0;31m# Make the request on the httplib connection object.\u001b[0m\u001b[0;34m\u001b[0m\u001b[0;34m\u001b[0m\u001b[0;34m\u001b[0m\u001b[0m\n\u001b[0;32m--> 699\u001b[0;31m             httplib_response = self._make_request(\n\u001b[0m\u001b[1;32m    700\u001b[0m                 \u001b[0mconn\u001b[0m\u001b[0;34m,\u001b[0m\u001b[0;34m\u001b[0m\u001b[0;34m\u001b[0m\u001b[0m\n\u001b[1;32m    701\u001b[0m                 \u001b[0mmethod\u001b[0m\u001b[0;34m,\u001b[0m\u001b[0;34m\u001b[0m\u001b[0;34m\u001b[0m\u001b[0m\n",
      "\u001b[0;32m~/opt/anaconda3/lib/python3.8/site-packages/urllib3/connectionpool.py\u001b[0m in \u001b[0;36m_make_request\u001b[0;34m(self, conn, method, url, timeout, chunked, **httplib_request_kw)\u001b[0m\n\u001b[1;32m    443\u001b[0m                     \u001b[0;31m# Python 3 (including for exceptions like SystemExit).\u001b[0m\u001b[0;34m\u001b[0m\u001b[0;34m\u001b[0m\u001b[0;34m\u001b[0m\u001b[0m\n\u001b[1;32m    444\u001b[0m                     \u001b[0;31m# Otherwise it looks like a bug in the code.\u001b[0m\u001b[0;34m\u001b[0m\u001b[0;34m\u001b[0m\u001b[0;34m\u001b[0m\u001b[0m\n\u001b[0;32m--> 445\u001b[0;31m                     \u001b[0msix\u001b[0m\u001b[0;34m.\u001b[0m\u001b[0mraise_from\u001b[0m\u001b[0;34m(\u001b[0m\u001b[0me\u001b[0m\u001b[0;34m,\u001b[0m \u001b[0;32mNone\u001b[0m\u001b[0;34m)\u001b[0m\u001b[0;34m\u001b[0m\u001b[0;34m\u001b[0m\u001b[0m\n\u001b[0m\u001b[1;32m    446\u001b[0m         \u001b[0;32mexcept\u001b[0m \u001b[0;34m(\u001b[0m\u001b[0mSocketTimeout\u001b[0m\u001b[0;34m,\u001b[0m \u001b[0mBaseSSLError\u001b[0m\u001b[0;34m,\u001b[0m \u001b[0mSocketError\u001b[0m\u001b[0;34m)\u001b[0m \u001b[0;32mas\u001b[0m \u001b[0me\u001b[0m\u001b[0;34m:\u001b[0m\u001b[0;34m\u001b[0m\u001b[0;34m\u001b[0m\u001b[0m\n\u001b[1;32m    447\u001b[0m             \u001b[0mself\u001b[0m\u001b[0;34m.\u001b[0m\u001b[0m_raise_timeout\u001b[0m\u001b[0;34m(\u001b[0m\u001b[0merr\u001b[0m\u001b[0;34m=\u001b[0m\u001b[0me\u001b[0m\u001b[0;34m,\u001b[0m \u001b[0murl\u001b[0m\u001b[0;34m=\u001b[0m\u001b[0murl\u001b[0m\u001b[0;34m,\u001b[0m \u001b[0mtimeout_value\u001b[0m\u001b[0;34m=\u001b[0m\u001b[0mread_timeout\u001b[0m\u001b[0;34m)\u001b[0m\u001b[0;34m\u001b[0m\u001b[0;34m\u001b[0m\u001b[0m\n",
      "\u001b[0;32m~/opt/anaconda3/lib/python3.8/site-packages/urllib3/packages/six.py\u001b[0m in \u001b[0;36mraise_from\u001b[0;34m(value, from_value)\u001b[0m\n",
      "\u001b[0;32m~/opt/anaconda3/lib/python3.8/site-packages/urllib3/connectionpool.py\u001b[0m in \u001b[0;36m_make_request\u001b[0;34m(self, conn, method, url, timeout, chunked, **httplib_request_kw)\u001b[0m\n\u001b[1;32m    438\u001b[0m                 \u001b[0;31m# Python 3\u001b[0m\u001b[0;34m\u001b[0m\u001b[0;34m\u001b[0m\u001b[0;34m\u001b[0m\u001b[0m\n\u001b[1;32m    439\u001b[0m                 \u001b[0;32mtry\u001b[0m\u001b[0;34m:\u001b[0m\u001b[0;34m\u001b[0m\u001b[0;34m\u001b[0m\u001b[0m\n\u001b[0;32m--> 440\u001b[0;31m                     \u001b[0mhttplib_response\u001b[0m \u001b[0;34m=\u001b[0m \u001b[0mconn\u001b[0m\u001b[0;34m.\u001b[0m\u001b[0mgetresponse\u001b[0m\u001b[0;34m(\u001b[0m\u001b[0;34m)\u001b[0m\u001b[0;34m\u001b[0m\u001b[0;34m\u001b[0m\u001b[0m\n\u001b[0m\u001b[1;32m    441\u001b[0m                 \u001b[0;32mexcept\u001b[0m \u001b[0mBaseException\u001b[0m \u001b[0;32mas\u001b[0m \u001b[0me\u001b[0m\u001b[0;34m:\u001b[0m\u001b[0;34m\u001b[0m\u001b[0;34m\u001b[0m\u001b[0m\n\u001b[1;32m    442\u001b[0m                     \u001b[0;31m# Remove the TypeError from the exception chain in\u001b[0m\u001b[0;34m\u001b[0m\u001b[0;34m\u001b[0m\u001b[0;34m\u001b[0m\u001b[0m\n",
      "\u001b[0;32m~/opt/anaconda3/lib/python3.8/http/client.py\u001b[0m in \u001b[0;36mgetresponse\u001b[0;34m(self)\u001b[0m\n\u001b[1;32m   1345\u001b[0m         \u001b[0;32mtry\u001b[0m\u001b[0;34m:\u001b[0m\u001b[0;34m\u001b[0m\u001b[0;34m\u001b[0m\u001b[0m\n\u001b[1;32m   1346\u001b[0m             \u001b[0;32mtry\u001b[0m\u001b[0;34m:\u001b[0m\u001b[0;34m\u001b[0m\u001b[0;34m\u001b[0m\u001b[0m\n\u001b[0;32m-> 1347\u001b[0;31m                 \u001b[0mresponse\u001b[0m\u001b[0;34m.\u001b[0m\u001b[0mbegin\u001b[0m\u001b[0;34m(\u001b[0m\u001b[0;34m)\u001b[0m\u001b[0;34m\u001b[0m\u001b[0;34m\u001b[0m\u001b[0m\n\u001b[0m\u001b[1;32m   1348\u001b[0m             \u001b[0;32mexcept\u001b[0m \u001b[0mConnectionError\u001b[0m\u001b[0;34m:\u001b[0m\u001b[0;34m\u001b[0m\u001b[0;34m\u001b[0m\u001b[0m\n\u001b[1;32m   1349\u001b[0m                 \u001b[0mself\u001b[0m\u001b[0;34m.\u001b[0m\u001b[0mclose\u001b[0m\u001b[0;34m(\u001b[0m\u001b[0;34m)\u001b[0m\u001b[0;34m\u001b[0m\u001b[0;34m\u001b[0m\u001b[0m\n",
      "\u001b[0;32m~/opt/anaconda3/lib/python3.8/http/client.py\u001b[0m in \u001b[0;36mbegin\u001b[0;34m(self)\u001b[0m\n\u001b[1;32m    305\u001b[0m         \u001b[0;31m# read until we get a non-100 response\u001b[0m\u001b[0;34m\u001b[0m\u001b[0;34m\u001b[0m\u001b[0;34m\u001b[0m\u001b[0m\n\u001b[1;32m    306\u001b[0m         \u001b[0;32mwhile\u001b[0m \u001b[0;32mTrue\u001b[0m\u001b[0;34m:\u001b[0m\u001b[0;34m\u001b[0m\u001b[0;34m\u001b[0m\u001b[0m\n\u001b[0;32m--> 307\u001b[0;31m             \u001b[0mversion\u001b[0m\u001b[0;34m,\u001b[0m \u001b[0mstatus\u001b[0m\u001b[0;34m,\u001b[0m \u001b[0mreason\u001b[0m \u001b[0;34m=\u001b[0m \u001b[0mself\u001b[0m\u001b[0;34m.\u001b[0m\u001b[0m_read_status\u001b[0m\u001b[0;34m(\u001b[0m\u001b[0;34m)\u001b[0m\u001b[0;34m\u001b[0m\u001b[0;34m\u001b[0m\u001b[0m\n\u001b[0m\u001b[1;32m    308\u001b[0m             \u001b[0;32mif\u001b[0m \u001b[0mstatus\u001b[0m \u001b[0;34m!=\u001b[0m \u001b[0mCONTINUE\u001b[0m\u001b[0;34m:\u001b[0m\u001b[0;34m\u001b[0m\u001b[0;34m\u001b[0m\u001b[0m\n\u001b[1;32m    309\u001b[0m                 \u001b[0;32mbreak\u001b[0m\u001b[0;34m\u001b[0m\u001b[0;34m\u001b[0m\u001b[0m\n",
      "\u001b[0;32m~/opt/anaconda3/lib/python3.8/http/client.py\u001b[0m in \u001b[0;36m_read_status\u001b[0;34m(self)\u001b[0m\n\u001b[1;32m    266\u001b[0m \u001b[0;34m\u001b[0m\u001b[0m\n\u001b[1;32m    267\u001b[0m     \u001b[0;32mdef\u001b[0m \u001b[0m_read_status\u001b[0m\u001b[0;34m(\u001b[0m\u001b[0mself\u001b[0m\u001b[0;34m)\u001b[0m\u001b[0;34m:\u001b[0m\u001b[0;34m\u001b[0m\u001b[0;34m\u001b[0m\u001b[0m\n\u001b[0;32m--> 268\u001b[0;31m         \u001b[0mline\u001b[0m \u001b[0;34m=\u001b[0m \u001b[0mstr\u001b[0m\u001b[0;34m(\u001b[0m\u001b[0mself\u001b[0m\u001b[0;34m.\u001b[0m\u001b[0mfp\u001b[0m\u001b[0;34m.\u001b[0m\u001b[0mreadline\u001b[0m\u001b[0;34m(\u001b[0m\u001b[0m_MAXLINE\u001b[0m \u001b[0;34m+\u001b[0m \u001b[0;36m1\u001b[0m\u001b[0;34m)\u001b[0m\u001b[0;34m,\u001b[0m \u001b[0;34m\"iso-8859-1\"\u001b[0m\u001b[0;34m)\u001b[0m\u001b[0;34m\u001b[0m\u001b[0;34m\u001b[0m\u001b[0m\n\u001b[0m\u001b[1;32m    269\u001b[0m         \u001b[0;32mif\u001b[0m \u001b[0mlen\u001b[0m\u001b[0;34m(\u001b[0m\u001b[0mline\u001b[0m\u001b[0;34m)\u001b[0m \u001b[0;34m>\u001b[0m \u001b[0m_MAXLINE\u001b[0m\u001b[0;34m:\u001b[0m\u001b[0;34m\u001b[0m\u001b[0;34m\u001b[0m\u001b[0m\n\u001b[1;32m    270\u001b[0m             \u001b[0;32mraise\u001b[0m \u001b[0mLineTooLong\u001b[0m\u001b[0;34m(\u001b[0m\u001b[0;34m\"status line\"\u001b[0m\u001b[0;34m)\u001b[0m\u001b[0;34m\u001b[0m\u001b[0;34m\u001b[0m\u001b[0m\n",
      "\u001b[0;32m~/opt/anaconda3/lib/python3.8/socket.py\u001b[0m in \u001b[0;36mreadinto\u001b[0;34m(self, b)\u001b[0m\n\u001b[1;32m    667\u001b[0m         \u001b[0;32mwhile\u001b[0m \u001b[0;32mTrue\u001b[0m\u001b[0;34m:\u001b[0m\u001b[0;34m\u001b[0m\u001b[0;34m\u001b[0m\u001b[0m\n\u001b[1;32m    668\u001b[0m             \u001b[0;32mtry\u001b[0m\u001b[0;34m:\u001b[0m\u001b[0;34m\u001b[0m\u001b[0;34m\u001b[0m\u001b[0m\n\u001b[0;32m--> 669\u001b[0;31m                 \u001b[0;32mreturn\u001b[0m \u001b[0mself\u001b[0m\u001b[0;34m.\u001b[0m\u001b[0m_sock\u001b[0m\u001b[0;34m.\u001b[0m\u001b[0mrecv_into\u001b[0m\u001b[0;34m(\u001b[0m\u001b[0mb\u001b[0m\u001b[0;34m)\u001b[0m\u001b[0;34m\u001b[0m\u001b[0;34m\u001b[0m\u001b[0m\n\u001b[0m\u001b[1;32m    670\u001b[0m             \u001b[0;32mexcept\u001b[0m \u001b[0mtimeout\u001b[0m\u001b[0;34m:\u001b[0m\u001b[0;34m\u001b[0m\u001b[0;34m\u001b[0m\u001b[0m\n\u001b[1;32m    671\u001b[0m                 \u001b[0mself\u001b[0m\u001b[0;34m.\u001b[0m\u001b[0m_timeout_occurred\u001b[0m \u001b[0;34m=\u001b[0m \u001b[0;32mTrue\u001b[0m\u001b[0;34m\u001b[0m\u001b[0;34m\u001b[0m\u001b[0m\n",
      "\u001b[0;31mKeyboardInterrupt\u001b[0m: "
     ]
    }
   ],
   "source": [
    "for url in final_urls:\n",
    "    df = getru(url, df)"
   ]
  },
  {
   "cell_type": "code",
   "execution_count": 61,
   "id": "27a43f4d-3f7e-4630-8891-4973bb8f011a",
   "metadata": {},
   "outputs": [
    {
     "data": {
      "text/plain": [
       "'https://web.archive.org/web/20210709115515/https://www.ons.gov.uk/peoplepopulationandcommunity/healthandsocialcare/conditionsanddiseases/articles/coronaviruscovid19/latestinsights'"
      ]
     },
     "execution_count": 61,
     "metadata": {},
     "output_type": "execute_result"
    }
   ],
   "source": [
    "final_urls[0]"
   ]
  },
  {
   "cell_type": "code",
   "execution_count": 59,
   "id": "58fd20b9-4316-4a4d-9874-ffc757e04bad",
   "metadata": {},
   "outputs": [],
   "source": [
    "driver.get(final_urls[0])"
   ]
  },
  {
   "cell_type": "code",
   "execution_count": 39,
   "id": "1fc4b947-2500-465e-b33f-51092c1d1e69",
   "metadata": {},
   "outputs": [],
   "source": [
    "n=3"
   ]
  },
  {
   "cell_type": "code",
   "execution_count": 40,
   "id": "bd53b3a8-a698-45c0-9923-a3053b4904b9",
   "metadata": {},
   "outputs": [],
   "source": [
    "n1=3"
   ]
  },
  {
   "cell_type": "code",
   "execution_count": 41,
   "id": "bf733bbd-6079-4586-b7ba-7b3cc2b872e4",
   "metadata": {},
   "outputs": [],
   "source": [
    "n2=1"
   ]
  },
  {
   "cell_type": "code",
   "execution_count": 45,
   "id": "98777b92-20d9-463e-999f-eecdd9f9960f",
   "metadata": {},
   "outputs": [],
   "source": [
    "n=4\n",
    "n1=3\n",
    "n2=2\n",
    "\n",
    "n=5\n",
    "n1=3\n",
    "n2=3"
   ]
  },
  {
   "cell_type": "code",
   "execution_count": 54,
   "id": "01009f00-e1e4-4b86-a963-241c1d59fddd",
   "metadata": {},
   "outputs": [
    {
     "data": {
      "text/plain": [
       "[]"
      ]
     },
     "execution_count": 54,
     "metadata": {},
     "output_type": "execute_result"
    }
   ],
   "source": [
    "driver.find_elements_by_xpath(f'//*[@id=\"main\"]/div[2]/div[1]/article/div[{n1}]/section/h3[{n2}]')"
   ]
  },
  {
   "cell_type": "code",
   "execution_count": 34,
   "id": "485d321a-b198-4672-95d1-5391fc092c08",
   "metadata": {},
   "outputs": [
    {
     "data": {
      "text/plain": [
       "'Most report more social distancing than they perceive in others'"
      ]
     },
     "execution_count": 34,
     "metadata": {},
     "output_type": "execute_result"
    }
   ],
   "source": [
    "driver.find_element_by_xpath(f'//*[@id=\"main\"]/div[2]/div[1]/article/div[3]/section/h3[2]').text"
   ]
  },
  {
   "cell_type": "code",
   "execution_count": 35,
   "id": "4d1dfd00-77d1-4091-a1c2-cd61f2ece6cf",
   "metadata": {},
   "outputs": [
    {
     "data": {
      "text/plain": [
       "'COVID-19 antibodies continue to rise in line with vaccinations across the UK countries'"
      ]
     },
     "execution_count": 35,
     "metadata": {},
     "output_type": "execute_result"
    }
   ],
   "source": [
    "driver.find_element_by_xpath(f'//*[@id=\"main\"]/div[2]/div[1]/article/div[4]/section/h3[1]').text"
   ]
  },
  {
   "cell_type": "code",
   "execution_count": 38,
   "id": "e30bd268-fd08-485f-bc90-d36db1a8bc06",
   "metadata": {},
   "outputs": [
    {
     "data": {
      "text/plain": [
       "'Deaths in England and Wales fall below five-year average'"
      ]
     },
     "execution_count": 38,
     "metadata": {},
     "output_type": "execute_result"
    }
   ],
   "source": [
    "driver.find_element_by_xpath(f'//*[@id=\"main\"]/div[2]/div[1]/article/div[5]/section/h3[1]').text"
   ]
  },
  {
   "cell_type": "code",
   "execution_count": 72,
   "id": "c32e0f79-78b2-4fb7-967a-08217103bf72",
   "metadata": {},
   "outputs": [
    {
     "data": {
      "text/plain": [
       "[<selenium.webdriver.remote.webelement.WebElement (session=\"528f8acc10224865415889580d1cb4b6\", element=\"7cec0b36-6ad2-43de-9d8e-f4988155ed87\")>]"
      ]
     },
     "execution_count": 72,
     "metadata": {},
     "output_type": "execute_result"
    }
   ],
   "source": [
    "driver.find_elements_by_xpath(f'//*[@id=\"main\"]/div[2]/div[1]/article/div[3]/section/h3[1]')"
   ]
  },
  {
   "cell_type": "code",
   "execution_count": null,
   "id": "c496e713-eb90-4094-aea5-db08af8d64c3",
   "metadata": {},
   "outputs": [],
   "source": [
    "'//*[@id=\"main\"]/div[2]/div[1]/article/div[3]/section/h3[1]'"
   ]
  }
 ],
 "metadata": {
  "kernelspec": {
   "display_name": "Python 3",
   "language": "python",
   "name": "python3"
  },
  "language_info": {
   "codemirror_mode": {
    "name": "ipython",
    "version": 3
   },
   "file_extension": ".py",
   "mimetype": "text/x-python",
   "name": "python",
   "nbconvert_exporter": "python",
   "pygments_lexer": "ipython3",
   "version": "3.8.8"
  }
 },
 "nbformat": 4,
 "nbformat_minor": 5
}
