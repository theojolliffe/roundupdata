{
 "cells": [
  {
   "cell_type": "code",
   "execution_count": 1,
   "id": "2f0b0ca5-bf4c-40e3-9d46-8e3fa0d486b6",
   "metadata": {},
   "outputs": [],
   "source": [
    "from transformers import AutoTokenizer, AutoModelForSeq2SeqLM"
   ]
  },
  {
   "cell_type": "code",
   "execution_count": 2,
   "id": "2015f94b-cd08-4c1a-9043-1d6c44bb5e81",
   "metadata": {},
   "outputs": [],
   "source": [
    "tokenizer = AutoTokenizer.from_pretrained(\"theojolliffe/bart-large-cnn-finetuned-roundup-2-2\")"
   ]
  },
  {
   "cell_type": "code",
   "execution_count": 3,
   "id": "3006c8ba-328e-4146-907e-03a288af3e6e",
   "metadata": {},
   "outputs": [],
   "source": [
    "model = AutoModelForSeq2SeqLM.from_pretrained(\"theojolliffe/bart-large-cnn-finetuned-roundup-2-2\")"
   ]
  },
  {
   "cell_type": "code",
   "execution_count": null,
   "id": "454915cb-82e1-4e0d-a82c-eb40d27f51c8",
   "metadata": {},
   "outputs": [],
   "source": []
  }
 ],
 "metadata": {
  "kernelspec": {
   "display_name": "Python 3",
   "language": "python",
   "name": "python3"
  },
  "language_info": {
   "codemirror_mode": {
    "name": "ipython",
    "version": 3
   },
   "file_extension": ".py",
   "mimetype": "text/x-python",
   "name": "python",
   "nbconvert_exporter": "python",
   "pygments_lexer": "ipython3",
   "version": "3.8.8"
  }
 },
 "nbformat": 4,
 "nbformat_minor": 5
}
