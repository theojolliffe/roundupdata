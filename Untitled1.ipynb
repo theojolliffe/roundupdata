{
 "cells": [
  {
   "cell_type": "code",
   "execution_count": null,
   "id": "c5a575ff-4098-4ebc-9394-f6351a2d6521",
   "metadata": {},
   "outputs": [],
   "source": [
    "# If using for the first time run the line of code below\n",
    "\n",
    "# ! pip install transformers"
   ]
  },
  {
   "cell_type": "code",
   "execution_count": 1,
   "id": "c1eed1cf-60a7-4cd3-806f-fee61b8bfa9e",
   "metadata": {},
   "outputs": [
    {
     "data": {
      "application/vnd.jupyter.widget-view+json": {
       "model_id": "15167a4ca1e94367a70892e159923c3e",
       "version_major": 2,
       "version_minor": 0
      },
      "text/plain": [
       "Downloading:   0%|          | 0.00/358 [00:00<?, ?B/s]"
      ]
     },
     "metadata": {},
     "output_type": "display_data"
    },
    {
     "data": {
      "application/vnd.jupyter.widget-view+json": {
       "model_id": "84e6c74e1e8340deb33412a15a5294e4",
       "version_major": 2,
       "version_minor": 0
      },
      "text/plain": [
       "Downloading:   0%|          | 0.00/780k [00:00<?, ?B/s]"
      ]
     },
     "metadata": {},
     "output_type": "display_data"
    },
    {
     "data": {
      "application/vnd.jupyter.widget-view+json": {
       "model_id": "f86e3e2571314418aabef80275c6d791",
       "version_major": 2,
       "version_minor": 0
      },
      "text/plain": [
       "Downloading:   0%|          | 0.00/446k [00:00<?, ?B/s]"
      ]
     },
     "metadata": {},
     "output_type": "display_data"
    },
    {
     "data": {
      "application/vnd.jupyter.widget-view+json": {
       "model_id": "3f1b38f945a2400b9c6902d89e6a1778",
       "version_major": 2,
       "version_minor": 0
      },
      "text/plain": [
       "Downloading:   0%|          | 0.00/2.01M [00:00<?, ?B/s]"
      ]
     },
     "metadata": {},
     "output_type": "display_data"
    },
    {
     "data": {
      "application/vnd.jupyter.widget-view+json": {
       "model_id": "070f393a2c2642cf8a4a7b6925f353c8",
       "version_major": 2,
       "version_minor": 0
      },
      "text/plain": [
       "Downloading:   0%|          | 0.00/239 [00:00<?, ?B/s]"
      ]
     },
     "metadata": {},
     "output_type": "display_data"
    },
    {
     "data": {
      "application/vnd.jupyter.widget-view+json": {
       "model_id": "567c0bb39afb4cbda7de8d829db7ac42",
       "version_major": 2,
       "version_minor": 0
      },
      "text/plain": [
       "Downloading:   0%|          | 0.00/1.62k [00:00<?, ?B/s]"
      ]
     },
     "metadata": {},
     "output_type": "display_data"
    },
    {
     "data": {
      "application/vnd.jupyter.widget-view+json": {
       "model_id": "4ecd4a9187dd413a9bae06898ec1a896",
       "version_major": 2,
       "version_minor": 0
      },
      "text/plain": [
       "Downloading:   0%|          | 0.00/1.51G [00:00<?, ?B/s]"
      ]
     },
     "metadata": {},
     "output_type": "display_data"
    }
   ],
   "source": [
    "from transformers import AutoTokenizer, AutoModelForSeq2SeqLM\n",
    "\n",
    "tokenizer = AutoTokenizer.from_pretrained(\"theojolliffe/bart-large-cnn-finetuned-roundup\")\n",
    "\n",
    "model = AutoModelForSeq2SeqLM.from_pretrained(\"theojolliffe/bart-large-cnn-finetuned-roundup\")"
   ]
  },
  {
   "cell_type": "code",
   "execution_count": 2,
   "id": "1143f053-bd72-450f-ada1-054bbc306438",
   "metadata": {},
   "outputs": [],
   "source": [
    "src_text = \"\"\"\n",
    "In England, the percentage of people testing positive for coronavirus (COVID-19) continued to decrease in the week ending 16 April 2022; we estimate that 3,218,700 people in England had COVID-19 (95% credible interval: 3,120,200 to 3,317,200), equating to 5.90% of the population or around 1 in 17 people.\n",
    "\n",
    "In Wales, the percentage of people testing positive for COVID-19 decreased in the week ending 16 April 2022; we estimate that 198,400 people in Wales had COVID-19 (95% credible interval: 175,100 to 222,600), equating to 6.53% of the population or around 1 in 15 people.\n",
    "\n",
    "In Northern Ireland, the percentage of people testing positive for COVID-19 continued to decrease in the week ending 16 April 2022; we estimate that 65,300 people in Northern Ireland had COVID-19 (95% credible interval: 52,300 to 79,800), equating to 3.56% of the population or around 1 in 30 people.\n",
    "\n",
    "In Scotland, the percentage of people testing positive for COVID-19 continued to decrease in the week ending 16 April 2022; we estimate that 281,400 people in Scotland had COVID-19 (95% credible interval: 253,100 to 311,700), equating to 5.35% of the population or around 1 in 19 people.\n",
    "\"\"\""
   ]
  },
  {
   "cell_type": "code",
   "execution_count": 3,
   "id": "6eda689c-a07a-4a7a-a209-669bfc20bdd2",
   "metadata": {},
   "outputs": [
    {
     "data": {
      "text/plain": [
       "'Infections continue to fall in England, Wales and Scotland\\nCoronavirus (COVID-19) infections continued to decrease in England and Scotland in the week ending 16 April 2022. \\nThe estimated percentage of people living in private households (not in hospitals, care homes and/or other communal establishments) that had COVID’19 in the most recent week was: \\n - 5.90% in England\\n - 6.53% in Wales\\n - 3.56% in Northern Ireland\\n - 1.35% in Scotland\\nIn England, infections decreased in all age groups except those aged 70 years and over\\nIn Wales, infections also decreased, while infections increased in Scotland.\\nIn Northern Ireland, infections increased among school-age children and those aged 50 to 69 years, and decreased among those in school Year 7 to Year 11.\\nThe percentage of the population estimated to have tested positive decreased in England in all other age groups in the latest week.\\n - Infections also decreased in Wales, Scotland and Northern Ireland.\\n'"
      ]
     },
     "execution_count": 3,
     "metadata": {},
     "output_type": "execute_result"
    }
   ],
   "source": [
    "translated = model.generate(**tokenizer([src_text], return_tensors=\"pt\", padding=True), max_length=500)\n",
    "summary = tokenizer.decode(translated[0], skip_special_tokens=True)\n",
    "summary"
   ]
  },
  {
   "cell_type": "code",
   "execution_count": null,
   "id": "c7653a4f-1026-4127-b25c-9d3fc00b2e81",
   "metadata": {},
   "outputs": [],
   "source": []
  }
 ],
 "metadata": {
  "kernelspec": {
   "display_name": "Python 3",
   "language": "python",
   "name": "python3"
  },
  "language_info": {
   "codemirror_mode": {
    "name": "ipython",
    "version": 3
   },
   "file_extension": ".py",
   "mimetype": "text/x-python",
   "name": "python",
   "nbconvert_exporter": "python",
   "pygments_lexer": "ipython3",
   "version": "3.8.8"
  }
 },
 "nbformat": 4,
 "nbformat_minor": 5
}
